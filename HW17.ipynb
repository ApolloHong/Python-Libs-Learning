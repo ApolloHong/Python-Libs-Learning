{
 "cells": [
  {
   "cell_type": "markdown",
   "metadata": {
    "colab_type": "text",
    "id": "90YtYlw2_TmS"
   },
   "source": [
    "# Homework 17\n",
    "## Symbolic math\n",
    "\n",
    "### Problem 1\n",
    "#### Part a\n",
    "\n",
    "Import the library needed for using symbolic math in python. Also setup the notebook for printing."
   ]
  },
  {
   "cell_type": "code",
   "execution_count": 1,
   "metadata": {
    "colab": {},
    "colab_type": "code",
    "id": "S4__-ume_TmT"
   },
   "outputs": [],
   "source": [
    "import sympy as sp"
   ]
  },
  {
   "cell_type": "markdown",
   "metadata": {
    "colab_type": "text",
    "id": "2blLq5nU_TmX"
   },
   "source": [
    "#### Part b\n",
    "Set variables x, y, z, and function f, and g."
   ]
  },
  {
   "cell_type": "code",
   "execution_count": 0,
   "metadata": {
    "colab": {},
    "colab_type": "code",
    "id": "2v68b13Y_TmX"
   },
   "outputs": [],
   "source": [
    "x = sp.symbols"
   ]
  },
  {
   "cell_type": "markdown",
   "metadata": {
    "colab_type": "text",
    "id": "aPgPRez2_Tmb"
   },
   "source": [
    "#### Part c\n",
    "\n",
    "Set an expression for the following: $$x^2+2x-5.$$\n"
   ]
  },
  {
   "cell_type": "code",
   "execution_count": 0,
   "metadata": {
    "colab": {},
    "colab_type": "code",
    "id": "Db9idgaP_Tmb"
   },
   "outputs": [],
   "source": []
  },
  {
   "cell_type": "markdown",
   "metadata": {
    "colab_type": "text",
    "id": "56WkzADr_Tmf"
   },
   "source": [
    " #### Part d\n",
    " \n",
    "Evaluate the expression for $x=1.5$. Also, make a variable substitution: $z$ for $x$. Do a variable substitution $y^2$ for x. "
   ]
  },
  {
   "cell_type": "code",
   "execution_count": 0,
   "metadata": {
    "colab": {},
    "colab_type": "code",
    "id": "jmw8ETT6_Tmh"
   },
   "outputs": [],
   "source": []
  },
  {
   "cell_type": "markdown",
   "metadata": {
    "colab_type": "text",
    "id": "UPEnkOhw_Tmm"
   },
   "source": [
    "### Problem 2\n",
    "#### Part a\n",
    "\n",
    "Simplify the following expression:\n",
    "$$\\frac{x^2 - x - 6}{x^2-3x}.$$"
   ]
  },
  {
   "cell_type": "code",
   "execution_count": 0,
   "metadata": {
    "colab": {},
    "colab_type": "code",
    "id": "NL2oX4nC_Tmn"
   },
   "outputs": [],
   "source": []
  },
  {
   "cell_type": "markdown",
   "metadata": {
    "colab_type": "text",
    "id": "ctnupjoU_Tmt"
   },
   "source": [
    "#### Part b\n",
    "\n",
    "Expand the following expression symbolically: $$(x+1)^3(x-2)^2.$$"
   ]
  },
  {
   "cell_type": "code",
   "execution_count": 0,
   "metadata": {
    "colab": {},
    "colab_type": "code",
    "id": "pmFjJzrY_Tmu"
   },
   "outputs": [],
   "source": []
  },
  {
   "cell_type": "markdown",
   "metadata": {
    "colab_type": "text",
    "id": "KWCeO0af_Tm0"
   },
   "source": [
    "#### Part c\n",
    "Factor the following expression: $$3x^4 - 36x^3+99x^2-6x-144.$$"
   ]
  },
  {
   "cell_type": "code",
   "execution_count": 0,
   "metadata": {
    "colab": {},
    "colab_type": "code",
    "id": "rBRxStbo_Tm0"
   },
   "outputs": [],
   "source": []
  },
  {
   "cell_type": "markdown",
   "metadata": {
    "colab_type": "text",
    "id": "agJ5U_os_Tm3"
   },
   "source": [
    "### Problem 3\n",
    "#### Part a\n",
    "Compute the symbolic derivative: $$\\frac{d}{dx}\\sin^2(x)e^{2x}.$$\n",
    "Then evaluate the resulting expression for $x=3.3.$"
   ]
  },
  {
   "cell_type": "code",
   "execution_count": 0,
   "metadata": {
    "colab": {},
    "colab_type": "code",
    "id": "w6PPmZcn_Tm3"
   },
   "outputs": [],
   "source": []
  },
  {
   "cell_type": "markdown",
   "metadata": {
    "colab_type": "text",
    "id": "nHqGC_Rs_Tm7"
   },
   "source": [
    "#### Part b\n",
    "Create a sympy expression representing the following integral:\n",
    "$$\\int_0^5x^2\\sin(x^2)dx.$$\n",
    "\n",
    "Then evaluate the integral symbolically."
   ]
  },
  {
   "cell_type": "code",
   "execution_count": 0,
   "metadata": {
    "colab": {},
    "colab_type": "code",
    "id": "Bn34x9Ie_Tm7"
   },
   "outputs": [],
   "source": []
  },
  {
   "cell_type": "markdown",
   "metadata": {
    "colab_type": "text",
    "id": "arDtomb0_TnC"
   },
   "source": [
    "### Problem 4\n",
    "#### Part a\n",
    "Solve for the roots of the following equation: $$x^3+15x^2=3x-10.$$\n",
    "Use the ```Eq``` and ```solve``` functions and save as an expression. Show the expression (it will be a list). Then find the numerical value of each root using the evalf function. You can use evalf on some expression using ```my_expression.evalf()```."
   ]
  },
  {
   "cell_type": "code",
   "execution_count": 0,
   "metadata": {
    "colab": {},
    "colab_type": "code",
    "id": "trE7FoK__TnD"
   },
   "outputs": [],
   "source": []
  },
  {
   "cell_type": "markdown",
   "metadata": {
    "colab_type": "text",
    "id": "FQPB5aVH_TnG"
   },
   "source": [
    "#### Part b\n",
    "Solve the system of three equations in three unknowns symbolically:\n",
    "\\begin{align}\n",
    "x+y+z&=0 \\\\\n",
    "2x-y-z&=10 \\\\\n",
    "y+2z&=5\n",
    "\\end{align}\n",
    "Compare the result to the answer computed with fsolve from scipy.optimize."
   ]
  },
  {
   "cell_type": "code",
   "execution_count": 0,
   "metadata": {
    "colab": {},
    "colab_type": "code",
    "id": "lvdiB6Pd_TnH"
   },
   "outputs": [],
   "source": []
  },
  {
   "cell_type": "markdown",
   "metadata": {
    "colab_type": "text",
    "id": "8B29gz7m_TnJ"
   },
   "source": [
    "#### Part c\n",
    "Solve the following differential equation symbolically using the ```dsolve``` function:\n",
    "$$\\frac{df(x)}{dx} = x\\cos(x).$$"
   ]
  },
  {
   "cell_type": "code",
   "execution_count": 0,
   "metadata": {
    "colab": {},
    "colab_type": "code",
    "id": "_lMgPzll_TnJ"
   },
   "outputs": [],
   "source": []
  },
  {
   "cell_type": "markdown",
   "metadata": {
    "colab_type": "text",
    "id": "WY8-BzBA_TnL"
   },
   "source": [
    "### Problem 5\n",
    "#### Part a\n",
    "For the system $Ax=b$ with\n",
    "$$ A = \\left[\\begin{matrix}\n",
    "1 & 2 & 5 \\\\\n",
    "3 & 4 & 6 \\\\\n",
    "-1 & 0 & 3\n",
    "\\end{matrix}\\right],$$\n",
    "$$b = \\left[\\begin{matrix}\n",
    "1 \\\\\n",
    "0 \\\\\n",
    "-2\n",
    "\\end{matrix}\\right].$$\n",
    "Setup the matrices $A$ and $b$\n"
   ]
  },
  {
   "cell_type": "code",
   "execution_count": 0,
   "metadata": {
    "colab": {},
    "colab_type": "code",
    "id": "lu6LlP30_TnM"
   },
   "outputs": [],
   "source": []
  },
  {
   "cell_type": "markdown",
   "metadata": {
    "colab_type": "text",
    "id": "qWrdFt5y_TnO"
   },
   "source": [
    "#### Part b\n",
    "For the system in Part a, solve for matrix $x$ by matrix algebra."
   ]
  },
  {
   "cell_type": "code",
   "execution_count": 0,
   "metadata": {
    "colab": {},
    "colab_type": "code",
    "id": "WeBmGxnd_TnO"
   },
   "outputs": [],
   "source": []
  },
  {
   "cell_type": "markdown",
   "metadata": {
    "colab_type": "text",
    "id": "VUOJvyrf_TnQ"
   },
   "source": [
    "#### Part c\n",
    "\n",
    "For matrix A above, return the middle row, and the middle column."
   ]
  },
  {
   "cell_type": "code",
   "execution_count": 0,
   "metadata": {
    "colab": {},
    "colab_type": "code",
    "id": "Re_aNa93_TnQ"
   },
   "outputs": [],
   "source": []
  },
  {
   "cell_type": "markdown",
   "metadata": {
    "colab_type": "text",
    "id": "9pKodYZN_TnT"
   },
   "source": [
    "#### Part d\n",
    "Create a matrix $M$ using the ```zeros``` function that has 2 rows and 2 columns. Fill in some values using array notation (like M[i,j]=value)."
   ]
  },
  {
   "cell_type": "code",
   "execution_count": 0,
   "metadata": {
    "colab": {},
    "colab_type": "code",
    "id": "FQnLgAJl_TnU"
   },
   "outputs": [],
   "source": []
  }
 ],
 "metadata": {
  "colab": {
   "name": "HW17.ipynb",
   "provenance": []
  },
  "kernelspec": {
   "display_name": "Python 3",
   "language": "python",
   "name": "python3"
  },
  "language_info": {
   "codemirror_mode": {
    "name": "ipython",
    "version": 3
   },
   "file_extension": ".py",
   "mimetype": "text/x-python",
   "name": "python",
   "nbconvert_exporter": "python",
   "pygments_lexer": "ipython3",
   "version": "3.7.0"
  }
 },
 "nbformat": 4,
 "nbformat_minor": 1
}
